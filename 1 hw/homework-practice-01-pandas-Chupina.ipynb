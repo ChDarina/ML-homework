{
 "cells": [
  {
   "cell_type": "code",
   "execution_count": 1,
   "id": "add06f5e",
   "metadata": {},
   "outputs": [
    {
     "name": "stdout",
     "output_type": "stream",
     "text": [
      "Populating the interactive namespace from numpy and matplotlib\n"
     ]
    }
   ],
   "source": [
    "%pylab inline\n",
    "import pandas as pd\n",
    "import numpy as np"
   ]
  },
  {
   "cell_type": "code",
   "execution_count": 2,
   "id": "4d00082c",
   "metadata": {},
   "outputs": [
    {
     "name": "stdout",
     "output_type": "stream",
     "text": [
      "Requirement already satisfied: wget in c:\\anaconda3\\lib\\site-packages (3.2)\n",
      "100% [..............................................................................] 50735 / 50735"
     ]
    },
    {
     "data": {
      "text/plain": [
       "'end_seminar.xlsx'"
      ]
     },
     "execution_count": 2,
     "metadata": {},
     "output_type": "execute_result"
    }
   ],
   "source": [
    "!pip install wget\n",
    "import wget \n",
    "wget.download('https://dropbox.com/s/f4rm8sjc3v99p0m/_end_seminar.xlsx?dl=1', 'end_seminar.xlsx')"
   ]
  },
  {
   "cell_type": "code",
   "execution_count": 3,
   "id": "46768f08",
   "metadata": {},
   "outputs": [],
   "source": [
    "df = pd.read_excel(r\"C:\\Users\\Эрвин\\Documents\\Machine Learning\\1ht\\end_seminar.xlsx\")"
   ]
  },
  {
   "cell_type": "code",
   "execution_count": 4,
   "id": "bc2b6112",
   "metadata": {},
   "outputs": [
    {
     "data": {
      "text/html": [
       "<div>\n",
       "<style scoped>\n",
       "    .dataframe tbody tr th:only-of-type {\n",
       "        vertical-align: middle;\n",
       "    }\n",
       "\n",
       "    .dataframe tbody tr th {\n",
       "        vertical-align: top;\n",
       "    }\n",
       "\n",
       "    .dataframe thead th {\n",
       "        text-align: right;\n",
       "    }\n",
       "</style>\n",
       "<table border=\"1\" class=\"dataframe\">\n",
       "  <thead>\n",
       "    <tr style=\"text-align: right;\">\n",
       "      <th></th>\n",
       "      <th>timestamp</th>\n",
       "      <th>id</th>\n",
       "      <th>rating</th>\n",
       "      <th>18_group</th>\n",
       "      <th>is_mi</th>\n",
       "      <th>fall_1</th>\n",
       "      <th>fall_2</th>\n",
       "      <th>fall_3</th>\n",
       "      <th>spring_1</th>\n",
       "      <th>spring_2</th>\n",
       "      <th>spring_3</th>\n",
       "      <th>is_first_time</th>\n",
       "      <th>percentile</th>\n",
       "      <th>17_group</th>\n",
       "      <th>blended</th>\n",
       "      <th>is_ml_student</th>\n",
       "    </tr>\n",
       "  </thead>\n",
       "  <tbody>\n",
       "    <tr>\n",
       "      <th>351</th>\n",
       "      <td>2020-05-18 23:58:33.903</td>\n",
       "      <td>8fe79f84f36e3a5d2d6745621321302c</td>\n",
       "      <td>1016</td>\n",
       "      <td>NaN</td>\n",
       "      <td>NaN</td>\n",
       "      <td>Безопасность компьютерных систем</td>\n",
       "      <td>Высокопроизводительные вычисления</td>\n",
       "      <td>Сбор и обработка данных с помощью краудсорсинга</td>\n",
       "      <td>Конфликты и кооперация</td>\n",
       "      <td>Проектирование и разработка высоконагруженных ...</td>\n",
       "      <td>Символьные вычисления</td>\n",
       "      <td>Да</td>\n",
       "      <td>0.942029</td>\n",
       "      <td>174.0</td>\n",
       "      <td>DevOps</td>\n",
       "      <td>NaN</td>\n",
       "    </tr>\n",
       "    <tr>\n",
       "      <th>352</th>\n",
       "      <td>2020-05-18 23:59:20.831</td>\n",
       "      <td>f93afd8e92c336b471aa3bbbc579aefe</td>\n",
       "      <td>1298</td>\n",
       "      <td>NaN</td>\n",
       "      <td>NaN</td>\n",
       "      <td>Высокопроизводительные вычисления</td>\n",
       "      <td>Сбор и обработка данных с помощью краудсорсинга</td>\n",
       "      <td>Statistical Learning Theory</td>\n",
       "      <td>Методы сжатия и передачи медиаданных</td>\n",
       "      <td>Проектирование и разработка высоконагруженных ...</td>\n",
       "      <td>Конфликты и кооперация</td>\n",
       "      <td>Да</td>\n",
       "      <td>0.057971</td>\n",
       "      <td>175.0</td>\n",
       "      <td>DevOps</td>\n",
       "      <td>NaN</td>\n",
       "    </tr>\n",
       "    <tr>\n",
       "      <th>353</th>\n",
       "      <td>2020-05-18 23:59:28.998</td>\n",
       "      <td>9963fc00d9405a35b894cc04a7e19855</td>\n",
       "      <td>1135</td>\n",
       "      <td>NaN</td>\n",
       "      <td>NaN</td>\n",
       "      <td>Безопасность компьютерных систем</td>\n",
       "      <td>Высокопроизводительные вычисления</td>\n",
       "      <td>Безопасность компьютерных систем</td>\n",
       "      <td>Проектирование и разработка высоконагруженных ...</td>\n",
       "      <td>Методы сжатия и передачи медиаданных</td>\n",
       "      <td>Символьные вычисления</td>\n",
       "      <td>Да</td>\n",
       "      <td>0.572464</td>\n",
       "      <td>175.0</td>\n",
       "      <td>DevOps</td>\n",
       "      <td>NaN</td>\n",
       "    </tr>\n",
       "    <tr>\n",
       "      <th>354</th>\n",
       "      <td>2020-05-19 08:55:39.509</td>\n",
       "      <td>98c5a2548d93f26bd4195466e93178b3</td>\n",
       "      <td>1035</td>\n",
       "      <td>NaN</td>\n",
       "      <td>NaN</td>\n",
       "      <td>Байесовские методы машинного обучения</td>\n",
       "      <td>Глубинное обучение в обработке звука</td>\n",
       "      <td>Statistical Learning Theory</td>\n",
       "      <td>Обучение с подкреплением</td>\n",
       "      <td>Генеративные модели в машинном обучении</td>\n",
       "      <td>Методы сжатия и передачи медиаданных</td>\n",
       "      <td>Нет</td>\n",
       "      <td>0.905797</td>\n",
       "      <td>171.0</td>\n",
       "      <td>DevOps</td>\n",
       "      <td>NaN</td>\n",
       "    </tr>\n",
       "    <tr>\n",
       "      <th>355</th>\n",
       "      <td>2020-05-19 18:58:06.283</td>\n",
       "      <td>ba298cbd9be59b84bab33325e956f27e</td>\n",
       "      <td>1155</td>\n",
       "      <td>NaN</td>\n",
       "      <td>NaN</td>\n",
       "      <td>Сбор и обработка данных с помощью краудсорсинга</td>\n",
       "      <td>Байесовские методы машинного обучения</td>\n",
       "      <td>Анализ неструктурированных данных</td>\n",
       "      <td>Конфликты и кооперация</td>\n",
       "      <td>Обучение с подкреплением</td>\n",
       "      <td>Компьютерное зрение</td>\n",
       "      <td>Да</td>\n",
       "      <td>0.507246</td>\n",
       "      <td>171.0</td>\n",
       "      <td>Соревновательный анализ данных</td>\n",
       "      <td>NaN</td>\n",
       "    </tr>\n",
       "    <tr>\n",
       "      <th>356</th>\n",
       "      <td>2020-05-19 19:04:17.873</td>\n",
       "      <td>c5870b37ee3f672e4259dfb2fc02ed8f</td>\n",
       "      <td>1029</td>\n",
       "      <td>NaN</td>\n",
       "      <td>NaN</td>\n",
       "      <td>Statistical Learning Theory</td>\n",
       "      <td>Анализ неструктурированных данных</td>\n",
       "      <td>Сбор и обработка данных с помощью краудсорсинга</td>\n",
       "      <td>Обучение с подкреплением</td>\n",
       "      <td>Конфликты и кооперация</td>\n",
       "      <td>Компьютерное зрение</td>\n",
       "      <td>Да</td>\n",
       "      <td>0.920290</td>\n",
       "      <td>174.0</td>\n",
       "      <td>DevOps</td>\n",
       "      <td>NaN</td>\n",
       "    </tr>\n",
       "    <tr>\n",
       "      <th>357</th>\n",
       "      <td>2020-05-19 20:19:25.815</td>\n",
       "      <td>f44aea1095f9f5b8e2f5f0ed2b17891b</td>\n",
       "      <td>1060</td>\n",
       "      <td>NaN</td>\n",
       "      <td>NaN</td>\n",
       "      <td>Анализ неструктурированных данных</td>\n",
       "      <td>Высокопроизводительные вычисления</td>\n",
       "      <td>Моделирование временных рядов</td>\n",
       "      <td>Конфликты и кооперация</td>\n",
       "      <td>Обучение с подкреплением</td>\n",
       "      <td>Численные методы</td>\n",
       "      <td>Да</td>\n",
       "      <td>0.840580</td>\n",
       "      <td>174.0</td>\n",
       "      <td>DevOps</td>\n",
       "      <td>NaN</td>\n",
       "    </tr>\n",
       "    <tr>\n",
       "      <th>358</th>\n",
       "      <td>2020-05-20 11:54:38.318</td>\n",
       "      <td>d7118b44c7e8fdbbaaca226d2da6fef1</td>\n",
       "      <td>1111</td>\n",
       "      <td>NaN</td>\n",
       "      <td>NaN</td>\n",
       "      <td>Сбор и обработка данных с помощью краудсорсинга</td>\n",
       "      <td>Statistical Learning Theory</td>\n",
       "      <td>Анализ неструктурированных данных</td>\n",
       "      <td>Проектирование и разработка высоконагруженных ...</td>\n",
       "      <td>Методы сжатия и передачи медиаданных</td>\n",
       "      <td>Численные методы</td>\n",
       "      <td>Да</td>\n",
       "      <td>0.652174</td>\n",
       "      <td>173.0</td>\n",
       "      <td>Соревновательный анализ данных</td>\n",
       "      <td>NaN</td>\n",
       "    </tr>\n",
       "    <tr>\n",
       "      <th>359</th>\n",
       "      <td>2020-05-23 21:16:40.916</td>\n",
       "      <td>79d14db48e4737af731960ae212d5134</td>\n",
       "      <td>966</td>\n",
       "      <td>NaN</td>\n",
       "      <td>NaN</td>\n",
       "      <td>Безопасность компьютерных систем</td>\n",
       "      <td>Принятие решений в условиях риска и неопределё...</td>\n",
       "      <td>Анализ неструктурированных данных</td>\n",
       "      <td>Проектирование и разработка высоконагруженных ...</td>\n",
       "      <td>Методы сжатия и передачи медиаданных</td>\n",
       "      <td>Компьютерное зрение</td>\n",
       "      <td>Да</td>\n",
       "      <td>0.985507</td>\n",
       "      <td>172.0</td>\n",
       "      <td>DevOps</td>\n",
       "      <td>NaN</td>\n",
       "    </tr>\n",
       "    <tr>\n",
       "      <th>360</th>\n",
       "      <td>2020-05-23 21:16:40.916</td>\n",
       "      <td>f2d210ace25a841e1e58036b257d5d47</td>\n",
       "      <td>1195</td>\n",
       "      <td>NaN</td>\n",
       "      <td>NaN</td>\n",
       "      <td>Анализ неструктурированных данных</td>\n",
       "      <td>Моделирование временных рядов</td>\n",
       "      <td>Высокопроизводительные вычисления</td>\n",
       "      <td>Обучение с подкреплением</td>\n",
       "      <td>Компьютерное зрение</td>\n",
       "      <td>Методы сжатия и передачи медиаданных</td>\n",
       "      <td>NaN</td>\n",
       "      <td>0.369565</td>\n",
       "      <td>176.0</td>\n",
       "      <td>Соревновательный анализ данных</td>\n",
       "      <td>NaN</td>\n",
       "    </tr>\n",
       "  </tbody>\n",
       "</table>\n",
       "</div>"
      ],
      "text/plain": [
       "                  timestamp                                id  rating  \\\n",
       "351 2020-05-18 23:58:33.903  8fe79f84f36e3a5d2d6745621321302c    1016   \n",
       "352 2020-05-18 23:59:20.831  f93afd8e92c336b471aa3bbbc579aefe    1298   \n",
       "353 2020-05-18 23:59:28.998  9963fc00d9405a35b894cc04a7e19855    1135   \n",
       "354 2020-05-19 08:55:39.509  98c5a2548d93f26bd4195466e93178b3    1035   \n",
       "355 2020-05-19 18:58:06.283  ba298cbd9be59b84bab33325e956f27e    1155   \n",
       "356 2020-05-19 19:04:17.873  c5870b37ee3f672e4259dfb2fc02ed8f    1029   \n",
       "357 2020-05-19 20:19:25.815  f44aea1095f9f5b8e2f5f0ed2b17891b    1060   \n",
       "358 2020-05-20 11:54:38.318  d7118b44c7e8fdbbaaca226d2da6fef1    1111   \n",
       "359 2020-05-23 21:16:40.916  79d14db48e4737af731960ae212d5134     966   \n",
       "360 2020-05-23 21:16:40.916  f2d210ace25a841e1e58036b257d5d47    1195   \n",
       "\n",
       "     18_group  is_mi                                           fall_1  \\\n",
       "351       NaN    NaN                 Безопасность компьютерных систем   \n",
       "352       NaN    NaN                Высокопроизводительные вычисления   \n",
       "353       NaN    NaN                 Безопасность компьютерных систем   \n",
       "354       NaN    NaN            Байесовские методы машинного обучения   \n",
       "355       NaN    NaN  Сбор и обработка данных с помощью краудсорсинга   \n",
       "356       NaN    NaN                      Statistical Learning Theory   \n",
       "357       NaN    NaN                Анализ неструктурированных данных   \n",
       "358       NaN    NaN  Сбор и обработка данных с помощью краудсорсинга   \n",
       "359       NaN    NaN                 Безопасность компьютерных систем   \n",
       "360       NaN    NaN                Анализ неструктурированных данных   \n",
       "\n",
       "                                                fall_2  \\\n",
       "351                  Высокопроизводительные вычисления   \n",
       "352    Сбор и обработка данных с помощью краудсорсинга   \n",
       "353                  Высокопроизводительные вычисления   \n",
       "354               Глубинное обучение в обработке звука   \n",
       "355              Байесовские методы машинного обучения   \n",
       "356                  Анализ неструктурированных данных   \n",
       "357                  Высокопроизводительные вычисления   \n",
       "358                        Statistical Learning Theory   \n",
       "359  Принятие решений в условиях риска и неопределё...   \n",
       "360                      Моделирование временных рядов   \n",
       "\n",
       "                                              fall_3  \\\n",
       "351  Сбор и обработка данных с помощью краудсорсинга   \n",
       "352                      Statistical Learning Theory   \n",
       "353                 Безопасность компьютерных систем   \n",
       "354                      Statistical Learning Theory   \n",
       "355                Анализ неструктурированных данных   \n",
       "356  Сбор и обработка данных с помощью краудсорсинга   \n",
       "357                    Моделирование временных рядов   \n",
       "358                Анализ неструктурированных данных   \n",
       "359                Анализ неструктурированных данных   \n",
       "360                Высокопроизводительные вычисления   \n",
       "\n",
       "                                              spring_1  \\\n",
       "351                             Конфликты и кооперация   \n",
       "352               Методы сжатия и передачи медиаданных   \n",
       "353  Проектирование и разработка высоконагруженных ...   \n",
       "354                           Обучение с подкреплением   \n",
       "355                             Конфликты и кооперация   \n",
       "356                           Обучение с подкреплением   \n",
       "357                             Конфликты и кооперация   \n",
       "358  Проектирование и разработка высоконагруженных ...   \n",
       "359  Проектирование и разработка высоконагруженных ...   \n",
       "360                           Обучение с подкреплением   \n",
       "\n",
       "                                              spring_2  \\\n",
       "351  Проектирование и разработка высоконагруженных ...   \n",
       "352  Проектирование и разработка высоконагруженных ...   \n",
       "353               Методы сжатия и передачи медиаданных   \n",
       "354            Генеративные модели в машинном обучении   \n",
       "355                           Обучение с подкреплением   \n",
       "356                             Конфликты и кооперация   \n",
       "357                           Обучение с подкреплением   \n",
       "358               Методы сжатия и передачи медиаданных   \n",
       "359               Методы сжатия и передачи медиаданных   \n",
       "360                                Компьютерное зрение   \n",
       "\n",
       "                                 spring_3 is_first_time  percentile  17_group  \\\n",
       "351                 Символьные вычисления            Да    0.942029     174.0   \n",
       "352                Конфликты и кооперация            Да    0.057971     175.0   \n",
       "353                 Символьные вычисления            Да    0.572464     175.0   \n",
       "354  Методы сжатия и передачи медиаданных           Нет    0.905797     171.0   \n",
       "355                   Компьютерное зрение            Да    0.507246     171.0   \n",
       "356                   Компьютерное зрение            Да    0.920290     174.0   \n",
       "357                      Численные методы            Да    0.840580     174.0   \n",
       "358                      Численные методы            Да    0.652174     173.0   \n",
       "359                   Компьютерное зрение            Да    0.985507     172.0   \n",
       "360  Методы сжатия и передачи медиаданных           NaN    0.369565     176.0   \n",
       "\n",
       "                            blended  is_ml_student  \n",
       "351                          DevOps            NaN  \n",
       "352                          DevOps            NaN  \n",
       "353                          DevOps            NaN  \n",
       "354                          DevOps            NaN  \n",
       "355  Соревновательный анализ данных            NaN  \n",
       "356                          DevOps            NaN  \n",
       "357                          DevOps            NaN  \n",
       "358  Соревновательный анализ данных            NaN  \n",
       "359                          DevOps            NaN  \n",
       "360  Соревновательный анализ данных            NaN  "
      ]
     },
     "execution_count": 4,
     "metadata": {},
     "output_type": "execute_result"
    }
   ],
   "source": [
    "#1 часть задания\n",
    "#1\n",
    "df.tail(10)"
   ]
  },
  {
   "cell_type": "code",
   "execution_count": 5,
   "id": "216642c7",
   "metadata": {},
   "outputs": [
    {
     "data": {
      "text/plain": [
       "223"
      ]
     },
     "execution_count": 5,
     "metadata": {},
     "output_type": "execute_result"
    }
   ],
   "source": [
    "#2\n",
    "df['18_group'].count()"
   ]
  },
  {
   "cell_type": "code",
   "execution_count": 6,
   "id": "2f6216ab",
   "metadata": {},
   "outputs": [
    {
     "data": {
      "text/plain": [
       "138"
      ]
     },
     "execution_count": 6,
     "metadata": {},
     "output_type": "execute_result"
    }
   ],
   "source": [
    "df['17_group'].count()"
   ]
  },
  {
   "cell_type": "code",
   "execution_count": 7,
   "id": "81da9f9f",
   "metadata": {
    "scrolled": true
   },
   "outputs": [
    {
     "data": {
      "text/plain": [
       "0.000000    2\n",
       "0.513453    2\n",
       "0.338565    2\n",
       "0.795964    2\n",
       "0.526906    2\n",
       "           ..\n",
       "0.630435    1\n",
       "0.807175    1\n",
       "0.398551    1\n",
       "0.071749    1\n",
       "0.195652    1\n",
       "Name: percentile, Length: 346, dtype: int64"
      ]
     },
     "execution_count": 7,
     "metadata": {},
     "output_type": "execute_result"
    }
   ],
   "source": [
    "df['percentile'].value_counts()\n",
    "#Да, совпадения есть"
   ]
  },
  {
   "cell_type": "code",
   "execution_count": 8,
   "id": "723d0209",
   "metadata": {},
   "outputs": [
    {
     "data": {
      "text/plain": [
       "Index(['18_group', 'is_mi', 'is_first_time', '17_group', 'blended',\n",
       "       'is_ml_student'],\n",
       "      dtype='object')"
      ]
     },
     "execution_count": 8,
     "metadata": {},
     "output_type": "execute_result"
    }
   ],
   "source": [
    "#3\n",
    "df.loc[:, df.isnull().any()].columns\n",
    "#Да, пропуски есть в нижеперечисленных колонках. Источник метода: https://towardsdatascience.com/how-to-check-for-missing-values-in-pandas-d2749e45a345"
   ]
  },
  {
   "cell_type": "code",
   "execution_count": 9,
   "id": "a5e319b2",
   "metadata": {},
   "outputs": [
    {
     "data": {
      "text/plain": [
       "138"
      ]
     },
     "execution_count": 9,
     "metadata": {},
     "output_type": "execute_result"
    }
   ],
   "source": [
    "df['18_group'].isna().sum()"
   ]
  },
  {
   "cell_type": "code",
   "execution_count": 10,
   "id": "0e6e9c8c",
   "metadata": {},
   "outputs": [
    {
     "data": {
      "text/plain": [
       "343"
      ]
     },
     "execution_count": 10,
     "metadata": {},
     "output_type": "execute_result"
    }
   ],
   "source": [
    "df['is_mi'].isna().sum()"
   ]
  },
  {
   "cell_type": "code",
   "execution_count": 11,
   "id": "e9d4f308",
   "metadata": {},
   "outputs": [
    {
     "data": {
      "text/plain": [
       "2"
      ]
     },
     "execution_count": 11,
     "metadata": {},
     "output_type": "execute_result"
    }
   ],
   "source": [
    "df['is_first_time'].isna().sum()"
   ]
  },
  {
   "cell_type": "code",
   "execution_count": 12,
   "id": "e0e61f20",
   "metadata": {},
   "outputs": [
    {
     "data": {
      "text/plain": [
       "223"
      ]
     },
     "execution_count": 12,
     "metadata": {},
     "output_type": "execute_result"
    }
   ],
   "source": [
    "df['17_group'].isna().sum()"
   ]
  },
  {
   "cell_type": "code",
   "execution_count": 13,
   "id": "20e0cf40",
   "metadata": {},
   "outputs": [
    {
     "data": {
      "text/plain": [
       "223"
      ]
     },
     "execution_count": 13,
     "metadata": {},
     "output_type": "execute_result"
    }
   ],
   "source": [
    "df['blended'].isna().sum()"
   ]
  },
  {
   "cell_type": "code",
   "execution_count": 14,
   "id": "effacece",
   "metadata": {},
   "outputs": [
    {
     "data": {
      "text/plain": [
       "304"
      ]
     },
     "execution_count": 14,
     "metadata": {},
     "output_type": "execute_result"
    }
   ],
   "source": [
    "df['is_ml_student'].isna().sum()"
   ]
  },
  {
   "cell_type": "code",
   "execution_count": 15,
   "id": "5f5bd90d",
   "metadata": {},
   "outputs": [],
   "source": [
    "df['18_group'].fillna(0, inplace=True)"
   ]
  },
  {
   "cell_type": "code",
   "execution_count": 16,
   "id": "a6edc75a",
   "metadata": {},
   "outputs": [],
   "source": [
    "df['is_mi'].fillna(0, inplace=True)"
   ]
  },
  {
   "cell_type": "code",
   "execution_count": 17,
   "id": "997bf53e",
   "metadata": {},
   "outputs": [],
   "source": [
    "df['is_first_time'].fillna(\"\", inplace=True)"
   ]
  },
  {
   "cell_type": "code",
   "execution_count": 18,
   "id": "861b48b3",
   "metadata": {},
   "outputs": [],
   "source": [
    "df['17_group'].fillna(0, inplace=True)"
   ]
  },
  {
   "cell_type": "code",
   "execution_count": 19,
   "id": "3f05130b",
   "metadata": {},
   "outputs": [],
   "source": [
    "df['blended'].fillna(\"\", inplace=True)"
   ]
  },
  {
   "cell_type": "code",
   "execution_count": 20,
   "id": "1d5d51f3",
   "metadata": {},
   "outputs": [],
   "source": [
    "df['is_ml_student'].fillna(0, inplace=True)"
   ]
  },
  {
   "cell_type": "code",
   "execution_count": 21,
   "id": "24714fbf",
   "metadata": {},
   "outputs": [
    {
     "data": {
      "text/plain": [
       "51"
      ]
     },
     "execution_count": 21,
     "metadata": {},
     "output_type": "execute_result"
    }
   ],
   "source": [
    "#4\n",
    "#Да, есть. Источник метода: https://stackoverflow.com/questions/20995196/pandas-counting-and-summing-specific-conditions\n",
    "np.sum(df['is_first_time'] == \"Нет\")"
   ]
  },
  {
   "cell_type": "code",
   "execution_count": 22,
   "id": "8be3f3fc",
   "metadata": {},
   "outputs": [],
   "source": [
    "df.drop_duplicates(subset=['id'], keep='last', inplace = True)"
   ]
  },
  {
   "cell_type": "code",
   "execution_count": 23,
   "id": "2e05201b",
   "metadata": {},
   "outputs": [
    {
     "data": {
      "text/plain": [
       "array(['', 'DevOps', 'Введение в дифференциальную геометрию',\n",
       "       'Соревновательный анализ данных'], dtype=object)"
      ]
     },
     "execution_count": 23,
     "metadata": {},
     "output_type": "execute_result"
    }
   ],
   "source": [
    " #5\n",
    "df.blended.unique()"
   ]
  },
  {
   "cell_type": "code",
   "execution_count": 24,
   "id": "0a7c4004",
   "metadata": {},
   "outputs": [
    {
     "data": {
      "text/plain": [
       "                                         213\n",
       "DevOps                                    87\n",
       "Соревновательный анализ данных            32\n",
       "Введение в дифференциальную геометрию     15\n",
       "Name: blended, dtype: int64"
      ]
     },
     "execution_count": 24,
     "metadata": {},
     "output_type": "execute_result"
    }
   ],
   "source": [
    "df.blended.value_counts()\n",
    "#На DevOps (отсутствующие данные в расчёт не берутся)"
   ]
  },
  {
   "cell_type": "code",
   "execution_count": 25,
   "id": "290e3b3a",
   "metadata": {},
   "outputs": [
    {
     "data": {
      "text/plain": [
       "1154.1724137931035"
      ]
     },
     "execution_count": 25,
     "metadata": {},
     "output_type": "execute_result"
    }
   ],
   "source": [
    "df[df.blended == \"DevOps\"].rating.mean()"
   ]
  },
  {
   "cell_type": "code",
   "execution_count": 26,
   "id": "869b6604",
   "metadata": {},
   "outputs": [
    {
     "data": {
      "text/plain": [
       "1144.21875"
      ]
     },
     "execution_count": 26,
     "metadata": {},
     "output_type": "execute_result"
    }
   ],
   "source": [
    "df[df.blended == \"Соревновательный анализ данных\"].rating.mean()\n",
    "#На этом курсе собрались студенты с самым высоким средним рейтингом"
   ]
  },
  {
   "cell_type": "code",
   "execution_count": 27,
   "id": "c8a2ff28",
   "metadata": {},
   "outputs": [
    {
     "data": {
      "text/plain": [
       "1210.7333333333333"
      ]
     },
     "execution_count": 27,
     "metadata": {},
     "output_type": "execute_result"
    }
   ],
   "source": [
    "df[df.blended == \"Введение в дифференциальную геометрию\"].rating.mean()"
   ]
  },
  {
   "cell_type": "code",
   "execution_count": 28,
   "id": "5d8eb7e9",
   "metadata": {},
   "outputs": [
    {
     "data": {
      "text/plain": [
       "17"
      ]
     },
     "execution_count": 28,
     "metadata": {},
     "output_type": "execute_result"
    }
   ],
   "source": [
    "#6\n",
    "df.duplicated(subset=['fall_1', 'fall_2', 'fall_3', 'spring_1', 'spring_2', 'spring_3', 'blended']).sum()\n",
    "#Да, есть"
   ]
  },
  {
   "cell_type": "code",
   "execution_count": 29,
   "id": "6cc46075",
   "metadata": {},
   "outputs": [],
   "source": [
    "uniques = df[df.duplicated(subset=['fall_1', 'fall_2', 'fall_3', 'spring_1', 'spring_2', 'spring_3', 'blended'])].copy()"
   ]
  },
  {
   "cell_type": "code",
   "execution_count": 30,
   "id": "7bac834f",
   "metadata": {},
   "outputs": [
    {
     "data": {
      "text/plain": [
       "15"
      ]
     },
     "execution_count": 30,
     "metadata": {},
     "output_type": "execute_result"
    }
   ],
   "source": [
    "uniques.value_counts(subset=['fall_1', 'fall_2', 'fall_3', 'spring_1', 'spring_2', 'spring_3', 'blended']).count()"
   ]
  },
  {
   "cell_type": "code",
   "execution_count": 31,
   "id": "a380cbff",
   "metadata": {
    "scrolled": false
   },
   "outputs": [
    {
     "data": {
      "text/html": [
       "<div>\n",
       "<style scoped>\n",
       "    .dataframe tbody tr th:only-of-type {\n",
       "        vertical-align: middle;\n",
       "    }\n",
       "\n",
       "    .dataframe tbody tr th {\n",
       "        vertical-align: top;\n",
       "    }\n",
       "\n",
       "    .dataframe thead th {\n",
       "        text-align: right;\n",
       "    }\n",
       "</style>\n",
       "<table border=\"1\" class=\"dataframe\">\n",
       "  <thead>\n",
       "    <tr style=\"text-align: right;\">\n",
       "      <th></th>\n",
       "      <th></th>\n",
       "      <th></th>\n",
       "      <th></th>\n",
       "      <th></th>\n",
       "      <th></th>\n",
       "      <th></th>\n",
       "      <th>0</th>\n",
       "    </tr>\n",
       "    <tr>\n",
       "      <th>fall_1</th>\n",
       "      <th>fall_2</th>\n",
       "      <th>fall_3</th>\n",
       "      <th>spring_1</th>\n",
       "      <th>spring_2</th>\n",
       "      <th>spring_3</th>\n",
       "      <th>blended</th>\n",
       "      <th></th>\n",
       "    </tr>\n",
       "  </thead>\n",
       "  <tbody>\n",
       "    <tr>\n",
       "      <th rowspan=\"2\" valign=\"top\">Безопасность компьютерных систем</th>\n",
       "      <th>Statistical Learning Theory</th>\n",
       "      <th>Матричные вычисления</th>\n",
       "      <th>Дискретная оптимизация</th>\n",
       "      <th>Промышленное программирование на языке Java</th>\n",
       "      <th>Дополнительные главы прикладной статистики</th>\n",
       "      <th></th>\n",
       "      <td>3</td>\n",
       "    </tr>\n",
       "    <tr>\n",
       "      <th>Высокопроизводительные вычисления</th>\n",
       "      <th>Язык SQL</th>\n",
       "      <th>Компьютерные сети</th>\n",
       "      <th>Промышленное программирование на языке Java</th>\n",
       "      <th>Дискретная оптимизация</th>\n",
       "      <th></th>\n",
       "      <td>3</td>\n",
       "    </tr>\n",
       "    <tr>\n",
       "      <th>Statistical Learning Theory</th>\n",
       "      <th>Анализ неструктурированных данных</th>\n",
       "      <th>Сбор и обработка данных с помощью краудсорсинга</th>\n",
       "      <th>Обучение с подкреплением</th>\n",
       "      <th>Конфликты и кооперация</th>\n",
       "      <th>Компьютерное зрение</th>\n",
       "      <th>DevOps</th>\n",
       "      <td>2</td>\n",
       "    </tr>\n",
       "    <tr>\n",
       "      <th rowspan=\"2\" valign=\"top\">Байесовские методы машинного обучения</th>\n",
       "      <th rowspan=\"2\" valign=\"top\">Анализ неструктурированных данных</th>\n",
       "      <th>Глубинное обучение в обработке звука</th>\n",
       "      <th>Обучение с подкреплением</th>\n",
       "      <th>Генеративные модели в машинном обучении</th>\n",
       "      <th>Компьютерное зрение</th>\n",
       "      <th>DevOps</th>\n",
       "      <td>2</td>\n",
       "    </tr>\n",
       "    <tr>\n",
       "      <th>Сбор и обработка данных с помощью краудсорсинга</th>\n",
       "      <th>Обучение с подкреплением</th>\n",
       "      <th>Компьютерное зрение</th>\n",
       "      <th>Генеративные модели в машинном обучении</th>\n",
       "      <th>DevOps</th>\n",
       "      <td>2</td>\n",
       "    </tr>\n",
       "    <tr>\n",
       "      <th rowspan=\"5\" valign=\"top\">Безопасность компьютерных систем</th>\n",
       "      <th rowspan=\"2\" valign=\"top\">Высокопроизводительные вычисления</th>\n",
       "      <th>Анализ неструктурированных данных</th>\n",
       "      <th>Проектирование и разработка высоконагруженных сервисов</th>\n",
       "      <th>Методы сжатия и передачи медиаданных</th>\n",
       "      <th>Конфликты и кооперация</th>\n",
       "      <th>DevOps</th>\n",
       "      <td>2</td>\n",
       "    </tr>\n",
       "    <tr>\n",
       "      <th>Язык SQL</th>\n",
       "      <th>Промышленное программирование на языке Java</th>\n",
       "      <th>Компьютерные сети</th>\n",
       "      <th>Системы баз данных</th>\n",
       "      <th></th>\n",
       "      <td>2</td>\n",
       "    </tr>\n",
       "    <tr>\n",
       "      <th>Матричные вычисления</th>\n",
       "      <th>Моделирование временных рядов</th>\n",
       "      <th>Промышленное программирование на языке Java</th>\n",
       "      <th>Компьютерные сети</th>\n",
       "      <th>Дискретная оптимизация</th>\n",
       "      <th></th>\n",
       "      <td>2</td>\n",
       "    </tr>\n",
       "    <tr>\n",
       "      <th>Сбор и обработка данных с помощью краудсорсинга</th>\n",
       "      <th>Матричные вычисления</th>\n",
       "      <th>Компьютерные сети</th>\n",
       "      <th>Промышленное программирование на языке Java</th>\n",
       "      <th>Анализ данных в бизнесе</th>\n",
       "      <th></th>\n",
       "      <td>2</td>\n",
       "    </tr>\n",
       "    <tr>\n",
       "      <th>Теория баз данных</th>\n",
       "      <th>Язык SQL</th>\n",
       "      <th>Машинное обучение 2</th>\n",
       "      <th>Компьютерные сети</th>\n",
       "      <th>Промышленное программирование на языке Java</th>\n",
       "      <th></th>\n",
       "      <td>2</td>\n",
       "    </tr>\n",
       "    <tr>\n",
       "      <th rowspan=\"2\" valign=\"top\">Высокопроизводительные вычисления</th>\n",
       "      <th>Безопасность компьютерных систем</th>\n",
       "      <th>Сбор и обработка данных с помощью краудсорсинга</th>\n",
       "      <th>Проектирование и разработка высоконагруженных сервисов</th>\n",
       "      <th>Методы сжатия и передачи медиаданных</th>\n",
       "      <th>Компьютерное зрение</th>\n",
       "      <th>DevOps</th>\n",
       "      <td>2</td>\n",
       "    </tr>\n",
       "    <tr>\n",
       "      <th>Сбор и обработка данных с помощью краудсорсинга</th>\n",
       "      <th>Моделирование временных рядов</th>\n",
       "      <th>Проектирование и разработка высоконагруженных сервисов</th>\n",
       "      <th>Методы сжатия и передачи медиаданных</th>\n",
       "      <th>Методы сжатия и передачи медиаданных</th>\n",
       "      <th>DevOps</th>\n",
       "      <td>2</td>\n",
       "    </tr>\n",
       "    <tr>\n",
       "      <th>Моделирование временных рядов</th>\n",
       "      <th>Сбор и обработка данных с помощью краудсорсинга</th>\n",
       "      <th>Безопасность компьютерных систем</th>\n",
       "      <th>Компьютерные сети</th>\n",
       "      <th>Дополнительные главы прикладной статистики</th>\n",
       "      <th>Системы баз данных</th>\n",
       "      <th></th>\n",
       "      <td>2</td>\n",
       "    </tr>\n",
       "    <tr>\n",
       "      <th>Сбор и обработка данных с помощью краудсорсинга</th>\n",
       "      <th>Язык SQL</th>\n",
       "      <th>Теория баз данных</th>\n",
       "      <th>Промышленное программирование на языке Java</th>\n",
       "      <th>Машинное обучение 2</th>\n",
       "      <th>Компьютерные сети</th>\n",
       "      <th></th>\n",
       "      <td>2</td>\n",
       "    </tr>\n",
       "    <tr>\n",
       "      <th>Язык SQL</th>\n",
       "      <th>Высокопроизводительные вычисления</th>\n",
       "      <th>Теория баз данных</th>\n",
       "      <th>Компьютерные сети</th>\n",
       "      <th>Промышленное программирование на языке Java</th>\n",
       "      <th>Дискретная оптимизация</th>\n",
       "      <th></th>\n",
       "      <td>2</td>\n",
       "    </tr>\n",
       "  </tbody>\n",
       "</table>\n",
       "</div>"
      ],
      "text/plain": [
       "                                                                                                                                                                                                                                                                                                    0\n",
       "fall_1                                          fall_2                                          fall_3                                          spring_1                                           spring_2                                    spring_3                                    blended   \n",
       "Безопасность компьютерных систем                Statistical Learning Theory                     Матричные вычисления                            Дискретная оптимизация                             Промышленное программирование на языке Java Дополнительные главы прикладной статистики           3\n",
       "                                                Высокопроизводительные вычисления               Язык SQL                                        Компьютерные сети                                  Промышленное программирование на языке Java Дискретная оптимизация                               3\n",
       "Statistical Learning Theory                     Анализ неструктурированных данных               Сбор и обработка данных с помощью краудсорсинга Обучение с подкреплением                           Конфликты и кооперация                      Компьютерное зрение                         DevOps   2\n",
       "Байесовские методы машинного обучения           Анализ неструктурированных данных               Глубинное обучение в обработке звука            Обучение с подкреплением                           Генеративные модели в машинном обучении     Компьютерное зрение                         DevOps   2\n",
       "                                                                                                Сбор и обработка данных с помощью краудсорсинга Обучение с подкреплением                           Компьютерное зрение                         Генеративные модели в машинном обучении     DevOps   2\n",
       "Безопасность компьютерных систем                Высокопроизводительные вычисления               Анализ неструктурированных данных               Проектирование и разработка высоконагруженных с... Методы сжатия и передачи медиаданных        Конфликты и кооперация                      DevOps   2\n",
       "                                                                                                Язык SQL                                        Промышленное программирование на языке Java        Компьютерные сети                           Системы баз данных                                   2\n",
       "                                                Матричные вычисления                            Моделирование временных рядов                   Промышленное программирование на языке Java        Компьютерные сети                           Дискретная оптимизация                               2\n",
       "                                                Сбор и обработка данных с помощью краудсорсинга Матричные вычисления                            Компьютерные сети                                  Промышленное программирование на языке Java Анализ данных в бизнесе                              2\n",
       "                                                Теория баз данных                               Язык SQL                                        Машинное обучение 2                                Компьютерные сети                           Промышленное программирование на языке Java          2\n",
       "Высокопроизводительные вычисления               Безопасность компьютерных систем                Сбор и обработка данных с помощью краудсорсинга Проектирование и разработка высоконагруженных с... Методы сжатия и передачи медиаданных        Компьютерное зрение                         DevOps   2\n",
       "                                                Сбор и обработка данных с помощью краудсорсинга Моделирование временных рядов                   Проектирование и разработка высоконагруженных с... Методы сжатия и передачи медиаданных        Методы сжатия и передачи медиаданных        DevOps   2\n",
       "Моделирование временных рядов                   Сбор и обработка данных с помощью краудсорсинга Безопасность компьютерных систем                Компьютерные сети                                  Дополнительные главы прикладной статистики  Системы баз данных                                   2\n",
       "Сбор и обработка данных с помощью краудсорсинга Язык SQL                                        Теория баз данных                               Промышленное программирование на языке Java        Машинное обучение 2                         Компьютерные сети                                    2\n",
       "Язык SQL                                        Высокопроизводительные вычисления               Теория баз данных                               Компьютерные сети                                  Промышленное программирование на языке Java Дискретная оптимизация                               2"
      ]
     },
     "execution_count": 31,
     "metadata": {},
     "output_type": "execute_result"
    }
   ],
   "source": [
    "(uniques.value_counts(subset=['fall_1', 'fall_2', 'fall_3', 'spring_1', 'spring_2', 'spring_3', 'blended'])+1).to_frame()\n",
    "#Таких наборов 15, количество выбравших студентов указано в конце. В виде таблицы сделано для наглядности."
   ]
  },
  {
   "cell_type": "code",
   "execution_count": 32,
   "id": "f267738b",
   "metadata": {},
   "outputs": [],
   "source": [
    "#7\n",
    "students17 = df[df['17_group'] != 0].copy()"
   ]
  },
  {
   "cell_type": "code",
   "execution_count": 33,
   "id": "22f591a0",
   "metadata": {},
   "outputs": [],
   "source": [
    "students18 = df[df['18_group'] != 0].copy()"
   ]
  },
  {
   "cell_type": "code",
   "execution_count": 34,
   "id": "d213506d",
   "metadata": {},
   "outputs": [],
   "source": [
    "students18 = pd.concat([students18['fall_1'], students18['fall_2'], students18['fall_3'], students18['spring_1'], students18['spring_2'], students18['spring_3']])"
   ]
  },
  {
   "cell_type": "code",
   "execution_count": 35,
   "id": "64a1729d",
   "metadata": {},
   "outputs": [],
   "source": [
    "students17 = pd.concat([students17['fall_1'], students17['fall_2'], students17['fall_3'], students17['spring_1'], students17['spring_2'], students17['spring_3'], students17['blended']])"
   ]
  },
  {
   "cell_type": "code",
   "execution_count": 36,
   "id": "17d9da51",
   "metadata": {},
   "outputs": [],
   "source": [
    "comm = np.intersect1d(students17, students18)"
   ]
  },
  {
   "cell_type": "code",
   "execution_count": 37,
   "id": "06fa27f2",
   "metadata": {},
   "outputs": [
    {
     "data": {
      "text/plain": [
       "array(['Statistical Learning Theory', 'Безопасность компьютерных систем',\n",
       "       'Высокопроизводительные вычисления',\n",
       "       'Моделирование временных рядов',\n",
       "       'Принятие решений в условиях риска и неопределённости',\n",
       "       'Сбор и обработка данных с помощью краудсорсинга',\n",
       "       'Численные методы'], dtype=object)"
      ]
     },
     "execution_count": 37,
     "metadata": {},
     "output_type": "execute_result"
    }
   ],
   "source": [
    "comm\n",
    "#Данные курсы были предложены как третьему курсу, так и четвёртому"
   ]
  },
  {
   "cell_type": "code",
   "execution_count": 38,
   "id": "13a7ff9d",
   "metadata": {},
   "outputs": [
    {
     "data": {
      "text/plain": [
       "array(['DevOps', 'Анализ неструктурированных данных',\n",
       "       'Байесовские методы машинного обучения',\n",
       "       'Введение в дифференциальную геометрию',\n",
       "       'Генеративные модели в машинном обучении',\n",
       "       'Глубинное обучение в обработке звука', 'Компьютерное зрение',\n",
       "       'Конфликты и кооперация', 'Методы сжатия и передачи медиаданных',\n",
       "       'Обучение с подкреплением',\n",
       "       'Проектирование и разработка высоконагруженных сервисов',\n",
       "       'Символьные вычисления', 'Соревновательный анализ данных'],\n",
       "      dtype=object)"
      ]
     },
     "execution_count": 38,
     "metadata": {},
     "output_type": "execute_result"
    }
   ],
   "source": [
    "np.setdiff1d(students17.unique(), comm)\n",
    "#Эти курсы эксклюзивны для четвёртого курса"
   ]
  },
  {
   "cell_type": "code",
   "execution_count": 39,
   "id": "088ca33a",
   "metadata": {},
   "outputs": [
    {
     "data": {
      "text/plain": [
       "array(['Анализ данных в бизнесе', 'Дискретная оптимизация',\n",
       "       'Дополнительные главы прикладной статистики', 'Компьютерные сети',\n",
       "       'Матричные вычисления', 'Машинное обучение 2',\n",
       "       'Промышленное программирование на языке Java',\n",
       "       'Системы баз данных', 'Теория баз данных', 'Язык SQL'],\n",
       "      dtype=object)"
      ]
     },
     "execution_count": 39,
     "metadata": {},
     "output_type": "execute_result"
    }
   ],
   "source": [
    "np.setdiff1d(students18.unique(), comm)\n",
    "#Эти курсы эксклюзивны для третьего курса"
   ]
  },
  {
   "cell_type": "code",
   "execution_count": 40,
   "id": "4289c956",
   "metadata": {},
   "outputs": [],
   "source": [
    "#8\n",
    "%matplotlib inline\n",
    "import matplotlib.pyplot as plt\n",
    "import seaborn as sns\n",
    "import datetime as dt"
   ]
  },
  {
   "cell_type": "code",
   "execution_count": 41,
   "id": "48fe6865",
   "metadata": {},
   "outputs": [
    {
     "data": {
      "image/png": "[encoded data removed]",
      "text/plain": [
       "<Figure size 1080x720 with 1 Axes>"
      ]
     },
     "metadata": {
      "image/png": {
       "height": 616,
       "width": 909
      }
     },
     "output_type": "display_data"
    }
   ],
   "source": [
    "%config InlineBackend.figure_format = 'retina'\n",
    "df1 = [df.timestamp.dt.date, df.rating]\n",
    "df1 = pd.DataFrame(df1)\n",
    "df1 = df1.T\n",
    "sns.set_style('darkgrid')\n",
    "plt.rcParams[\"figure.figsize\"] = (15, 10)\n",
    "plt.rcParams['font.size'] = 15\n",
    "sns_plot = sns.barplot(x=\"timestamp\", y=\"rating\", data=df1)\n",
    "sns_plot.set_title('Средний рейтинг студентов по дням получения ответов')\n",
    "sns_plot.set(xlabel = 'День получения ответа')\n",
    "sns_plot.set(ylabel = 'Рейтинг')\n",
    "sns_plot.figure.savefig('barplot.pdf')"
   ]
  },
  {
   "cell_type": "code",
   "execution_count": 42,
   "id": "fee0aa5d",
   "metadata": {},
   "outputs": [],
   "source": [
    "#Проверка\n",
    "assert df.shape[0] == 347, 'В таблице остались повторы или потеряны данные'\n",
    "assert df.isna().sum().sum() == 0, 'В таблице остались пропуски'\n",
    "#Проверка пройдена!"
   ]
  },
  {
   "cell_type": "code",
   "execution_count": 43,
   "id": "37994290",
   "metadata": {},
   "outputs": [],
   "source": [
    "#2 часть\n",
    "#1 задание\n",
    "df['fall_count'] = df.apply(lambda x: 2 if x['is_mi'] == 1 or x['17_group'] == 171 or x['17_group'] == 172 or x['17_group'] == 173 else 1, axis=1)"
   ]
  },
  {
   "cell_type": "code",
   "execution_count": 44,
   "id": "d827ef95",
   "metadata": {},
   "outputs": [],
   "source": [
    "#Проверка\n",
    "col_name = 'fall_count'    # insert your new column name as str\n",
    "assert(df[df['id'] == '2662600c2c37e11e62f6ee0b88452f22'][col_name] == 2).all()\n",
    "assert(df[df['id'] == 'd555d2805e1d93d4f023e57dc4c8f403'][col_name] == 2).all()\n",
    "assert(df[df['id'] == '8fe79f84f36e3a5d2d6745621321302c'][col_name] == 1).all()\n",
    "assert(df[df['id'] == 'e4caca755ee0bdd711e18fb8084958b5'][col_name] == 1).all()\n",
    "#Проверка пройдена!"
   ]
  }
 ],
 "metadata": {
  "kernelspec": {
   "display_name": "Python 3 (ipykernel)",
   "language": "python",
   "name": "python3"
  },
  "language_info": {
   "codemirror_mode": {
    "name": "ipython",
    "version": 3
   },
   "file_extension": ".py",
   "mimetype": "text/x-python",
   "name": "python",
   "nbconvert_exporter": "python",
   "pygments_lexer": "ipython3",
   "version": "3.8.8"
  }
 },
 "nbformat": 4,
 "nbformat_minor": 5
}

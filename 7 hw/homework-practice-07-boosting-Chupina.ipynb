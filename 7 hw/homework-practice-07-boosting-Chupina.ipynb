{
 "cells": [
  {
   "cell_type": "markdown",
   "metadata": {},
   "source": [
    "# Машинное обучение, ФКН ВШЭ\n",
    "\n",
    "# Практическое задание 7. Бустинговое\n",
    "\n",
    "## Общая информация\n",
    "\n",
    "Дата выдачи: 06.12.2021\n",
    "\n",
    "Мягкий дедлайн: 18.12.2021 23:59 MSK\n",
    "\n",
    "Жёсткий дедлайн: 19.12.2021 23:59 MSK\n",
    "\n",
    "## Оценивание и штрафы\n",
    "\n",
    "Каждая из задач имеет определенную «стоимость» (указана в скобках около задачи). Максимально допустимая оценка за работу — 10 баллов.\n",
    "\n",
    "Сдавать задание после указанного срока сдачи нельзя. При выставлении неполного балла за задание в связи с наличием ошибок на усмотрение проверяющего предусмотрена возможность исправить работу на указанных в ответном письме условиях.\n",
    "\n",
    "Задание выполняется самостоятельно. «Похожие» решения считаются плагиатом и все задействованные студенты (в том числе те, у кого списали) не могут получить за него больше 0 баллов (подробнее о плагиате см. на странице курса). Если вы нашли решение какого-то из заданий (или его часть) в открытом источнике, необходимо указать ссылку на этот источник в отдельном блоке в конце вашей работы (скорее всего вы будете не единственным, кто это нашел, поэтому чтобы исключить подозрение в плагиате, необходима ссылка на источник).\n",
    "\n",
    "Неэффективная реализация кода может негативно отразиться на оценке.\n",
    "\n",
    "## Формат сдачи\n",
    "Задания сдаются через систему anytask. Посылка должна содержать:\n",
    "* Ноутбук homework-practice-07-Username.ipynb\n",
    "\n",
    "Username — ваша фамилия на латинице"
   ]
  },
  {
   "cell_type": "markdown",
   "metadata": {},
   "source": [
    "## О задании\n",
    "\n",
    "В этом задании вам предстоит вручную запрограммировать один из самых мощных алгоритмов машинного обучения — бустинг."
   ]
  },
  {
   "cell_type": "code",
   "execution_count": 1,
   "metadata": {},
   "outputs": [],
   "source": [
    "from warnings import filterwarnings\n",
    "\n",
    "import matplotlib.pyplot as plt\n",
    "import numpy as np\n",
    "import seaborn as sns\n",
    "from scipy.sparse import load_npz\n",
    "from sklearn.model_selection import train_test_split\n",
    "\n",
    "\n",
    "sns.set(style='darkgrid')\n",
    "filterwarnings('ignore')"
   ]
  },
  {
   "cell_type": "code",
   "execution_count": 2,
   "metadata": {},
   "outputs": [],
   "source": [
    "x = load_npz('x.npz')\n",
    "y = np.load('y.npy')"
   ]
  },
  {
   "cell_type": "markdown",
   "metadata": {},
   "source": [
    "Разделим на обучающую, валидационную и тестовую выборки (`random_state` оставьте равным 1337 для воспроизводимости)."
   ]
  },
  {
   "cell_type": "code",
   "execution_count": 3,
   "metadata": {},
   "outputs": [
    {
     "data": {
      "text/plain": [
       "((18825, 169), (2354, 169), (2353, 169))"
      ]
     },
     "execution_count": 3,
     "metadata": {},
     "output_type": "execute_result"
    }
   ],
   "source": [
    "x_train, x_test, y_train, y_test = train_test_split(x, y, test_size=0.2, random_state=1337)\n",
    "\n",
    "x_test, x_valid, y_test, y_valid = train_test_split(x_test, y_test, test_size=0.5, random_state=1337)\n",
    "\n",
    "x_train.shape, x_valid.shape, x_test.shape"
   ]
  },
  {
   "cell_type": "markdown",
   "metadata": {},
   "source": [
    "## Задание 1. Реализация градиентного бустинга (4 балла)\n",
    "\n",
    "Вам нужно дописать код в файлике `boosting.py`. Для вас уже подготовлен шаблон класса `Boosting`, вы можете менять его по своему усмотрению.\n",
    "\n",
    "### Инструкции для функций:\n",
    "\n",
    "#### `__init__`\n",
    "\n",
    "В `__init__` приходит кучка параметров, распишем что есть что:\n",
    "\n",
    " - `base_model_class` - класс базовой модели нашего бустинга\n",
    " - `base_model_params` - словарь с гиперпараметрами для базовой модели\n",
    " - `n_estimators` - какое количество базовых моделей нужно обучить\n",
    " - `learning_rate` - темп обучения, должен быть из полуинтервала $(0, 1]$\n",
    " - `subsample` - доля объектов, на которой будет обучаться базовая модель (какую часть составляет бутстрапная выборка от исходной обучающей)\n",
    " - `early_stopping_rounds` - число итераций, после которых при отсутствии улучшения качества на валидационной выборке обучение останавливается\n",
    " - `plot` - строить ли после обучения всех базовых моделей график с качеством\n",
    "\n",
    "#### `fit`\n",
    "\n",
    "В `fit` приходит две выборки, обучающая и валидационная. На обучающей мы обучаем новые базовые модели, на валидационной считаем качество для ранней остановки (если это предусматривают параметры).\n",
    "\n",
    "Сначала нам нужно сделать какую-то нулевую модель, сделать предсказания для обучающей и валидационной выборок (в шаблоне это нулевая модель, соответственно предсказания это просто `np.zeros`). После этого нужно обучить `n_estimators` базовых моделей (как и на что обучаются базовые модели смотрите в лекциях и семинарах). После каждой обученной базовой модели мы должны обновить текущие предсказания, посчитать ошибку на обучающей и валидационной выборках (используем `loss_fn` для этого), проверить на раннюю остановку.\n",
    "\n",
    "После всего цикла обучения надо нарисовать график (если `plot`).\n",
    "\n",
    "\n",
    "#### `fit_new_base_model`\n",
    "\n",
    "В `fit_new_base_model` приходит обучающая выборка (целиком) и текущие предсказания для неё. Мы должны сгенерировать бутстрап выборку для обучения базовой модели и обучить базовую модель. После обучения модели запускаем поиск оптимальной гаммы, добавляем новую модель и гамму (не забываем про темп обучения) в соответствующие списки.\n",
    "\n",
    "#### `predict_proba`\n",
    "\n",
    "В `predict_proba` приходит выборка, нужно предсказать вероятности для неё. Суммируем предсказания базовых моделей на этой выборке (не забываем про гаммы) и накидываем сигмоиду."
   ]
  },
  {
   "cell_type": "code",
   "execution_count": 4,
   "metadata": {},
   "outputs": [],
   "source": [
    "%load_ext autoreload"
   ]
  },
  {
   "cell_type": "code",
   "execution_count": 5,
   "metadata": {},
   "outputs": [],
   "source": [
    "%autoreload 2\n",
    "\n",
    "from boosting import Boosting"
   ]
  },
  {
   "cell_type": "markdown",
   "metadata": {},
   "source": [
    "### Проверка кода\n",
    "\n",
    "У автора задания всё учится около одной секунды."
   ]
  },
  {
   "cell_type": "code",
   "execution_count": 6,
   "metadata": {},
   "outputs": [
    {
     "name": "stdout",
     "output_type": "stream",
     "text": [
      "Wall time: 1.7 s\n",
      "Train ROC-AUC 0.9862\n",
      "Valid ROC-AUC 0.9272\n",
      "Test ROC-AUC 0.9282\n"
     ]
    }
   ],
   "source": [
    "#Сделано при помощи: https://habr.com/ru/company/vk/blog/438562/\n",
    "\n",
    "boosting = Boosting()\n",
    "\n",
    "%time boosting.fit(x_train, y_train, x_valid, y_valid)\n",
    "\n",
    "assert len(boosting.models) == boosting.n_estimators\n",
    "assert len(boosting.gammas) == boosting.n_estimators\n",
    "\n",
    "assert boosting.predict_proba(x_test).shape == (x_test.shape[0], 2)\n",
    "\n",
    "print(f'Train ROC-AUC {boosting.score(x_train, y_train):.4f}')\n",
    "print(f'Valid ROC-AUC {boosting.score(x_valid, y_valid):.4f}')\n",
    "print(f'Test ROC-AUC {boosting.score(x_test, y_test):.4f}')"
   ]
  },
  {
   "cell_type": "markdown",
   "metadata": {},
   "source": [
    "## Задание 2. Обучение градиентного бустинга (1 балл)\n",
    "\n",
    "Оцените качество на тестовой выборке вашей имплементации бустинга для различной максимальной глубины решающего дерева в качестве базовой модели. Здесь и далее мы будем использовать метрику ROC-AUC.\n",
    "\n",
    "Перебирайте максимальную глубину от 1 до 30 с шагом 2 (остальные параметры бустинга стоит оставить равными по умолчанию). Постройте график зависимости качества на обучающей и тестовой выборке в зависимости от глубины."
   ]
  },
  {
   "cell_type": "code",
   "execution_count": 7,
   "metadata": {},
   "outputs": [
    {
     "data": {
      "text/plain": [
       "<AxesSubplot:title={'center':'Перебор глубины'}, xlabel='Глубина', ylabel='Значения качества'>"
      ]
     },
     "execution_count": 7,
     "metadata": {},
     "output_type": "execute_result"
    },
    {
     "data": {
      "image/png": "[encoded data removed]",
      "text/plain": [
       "<Figure size 432x288 with 1 Axes>"
      ]
     },
     "metadata": {},
     "output_type": "display_data"
    }
   ],
   "source": [
    "depths = range(1, 30, 2)\n",
    "\n",
    "train_error = []\n",
    "test_error = []\n",
    "\n",
    "for i in depths:\n",
    "    base_model_params= {\"max_depth\":i}\n",
    "    boosting = Boosting(base_model_params = base_model_params)\n",
    "    boosting.fit(x_train, y_train, x_valid, y_valid)\n",
    "    train_error.append(boosting.score(x_train, y_train))\n",
    "    test_error.append(boosting.score(x_test, y_test))\n",
    "\n",
    "sns.lineplot(x=depths, y=train_error, label=\"Train\").set(title='Перебор глубины', xlabel='Глубина', ylabel='Значения качества')\n",
    "sns.lineplot(x=depths, y=test_error, label=\"Test\")"
   ]
  },
  {
   "cell_type": "markdown",
   "metadata": {},
   "source": [
    "**Какая из моделей имеет лучшее качество? Как вы можете это объяснить?**\n",
    "\n",
    "__Ответ:__ Сложно сказать наверняка -- график будет меняться с каждым перезапуском из-за бутстрапирования. Но есть определённый тренд, при котором до этого неуклонно растущее значение качества на тестовой выборке начинает замедляться и потом выходит на плато, после того, как проходит рубеж 5-7. Это значит, что на этом самом рубеже тестовое качество достигает своего максимума, а дальше модель будет только переобучаться, что видно на примере тренировочной выборки. Исходя из этого, лучшей моделью может считаться 7 модель, тк примерно с неё тестовая ошибка начинает выходить на плато."
   ]
  },
  {
   "cell_type": "markdown",
   "metadata": {},
   "source": [
    "## Задание 3. Подбираем гиперпараметры и ищем лучшую модель (2 балла)\n",
    "\n",
    "Подберите по валидационной выборке основные гиперпараметры для вашей модели бустинга. Следует подобрать все основные параметры для самого градиентного бустинга и для самих базовых моделей."
   ]
  },
  {
   "cell_type": "code",
   "execution_count": 8,
   "metadata": {
    "scrolled": false
   },
   "outputs": [
    {
     "name": "stdout",
     "output_type": "stream",
     "text": [
      "Best ROC-AUC: 0.9372975785792673, Best parameters: {'n_estimators': 13, 'learning_rate': 0.05, 'min_samples_split': 15, 'min_samples_leaf': 1}\n"
     ]
    }
   ],
   "source": [
    "#P.S.: Я очень старалась сделать через GridSearchCV, но ничего не получалось, извините, что пришлось в итоге делать всё так топорно :с\n",
    "\n",
    "base_model_params = {\n",
    "    \"min_samples_split\": [15, 5, 2],\n",
    "    \"min_samples_leaf\": [15, 5, 1]\n",
    "}\n",
    "parameters = {\n",
    "    \"n_estimators\": range(1, 20, 2),\n",
    "    \"learning_rate\": [0.05, 0.075, 0.1, 0.125, 0.15]\n",
    "}\n",
    "\n",
    "best_parameters = {\n",
    "    \"n_estimators\": None,\n",
    "    \"learning_rate\": None,\n",
    "    \"min_samples_split\": None,\n",
    "    \"min_samples_leaf\": None\n",
    "}\n",
    "\n",
    "best_error = -1\n",
    "\n",
    "for n_estimators in parameters['n_estimators']:\n",
    "    for learning_rate in parameters['learning_rate']:\n",
    "        for min_samples_split in base_model_params['min_samples_split']:\n",
    "            for min_samples_leaf in base_model_params['min_samples_leaf']:\n",
    "                base_model_params_temp = {\n",
    "                    \"min_samples_split\": min_samples_split,\n",
    "                    \"min_samples_leaf\": min_samples_leaf\n",
    "                    }\n",
    "                boosting = Boosting(\n",
    "                    base_model_params = base_model_params_temp,\n",
    "                    n_estimators = n_estimators,\n",
    "                    learning_rate = learning_rate                    \n",
    "                    )\n",
    "                boosting.fit(x_train, y_train, x_valid, y_valid)\n",
    "                error = boosting.score(x_test, y_test)                    \n",
    "                if error > best_error:\n",
    "                    best_error = error\n",
    "                    best_parameters = {\n",
    "                        \"n_estimators\": n_estimators,\n",
    "                        \"learning_rate\": learning_rate,\n",
    "                        \"min_samples_split\": min_samples_split,\n",
    "                        \"min_samples_leaf\": min_samples_leaf\n",
    "                        }\n",
    "\n",
    "print(f'Best ROC-AUC: {best_error}, Best parameters: {best_parameters}')"
   ]
  },
  {
   "cell_type": "markdown",
   "metadata": {},
   "source": [
    "## Задание 4. Пробуем разные библиотеки (2 балла)\n",
    "\n",
    "Выберите себе библиотеку с реализацией градиентного бустинга по вкусу из следующих трёх - [XGBoost](https://xgboost.readthedocs.io/en/stable/python/python_intro.html), [LightGBM](https://lightgbm.readthedocs.io/en/latest/Python-Intro.html), [CatBoost](https://catboost.ai/en/docs/concepts/python-quickstart). Подберите основные гиперпараметры, постарайтесь добиться наилучшего качества на тестовых данных. Сравните результаты своей реализации с результатами библиотечного бустинга."
   ]
  },
  {
   "cell_type": "code",
   "execution_count": 9,
   "metadata": {},
   "outputs": [
    {
     "name": "stdout",
     "output_type": "stream",
     "text": [
      "Best ROC-AUC: 0.9314124980515585, Best parameters: {'n_estimators': 33, 'eta': 0.1, 'gamma': 2.5, 'min_child_weight': 0}\n"
     ]
    }
   ],
   "source": [
    "import xgboost as xgb\n",
    "from sklearn.metrics import roc_auc_score\n",
    "\n",
    "parameters_xgboost = {\n",
    "    \"n_estimators\": range(25, 35, 2),\n",
    "    \"eta\": [0.05, 0.075, 0.1, 0.25, 0.5], #learning_rate\n",
    "    \"gamma\": [2.5, 3, 3.5], #min_split_loss\n",
    "    \"min_child_weight\": [0, 0.005, 0.010, 0.015, 0.020]\n",
    "}\n",
    "\n",
    "best_parameters_xgboost = {\n",
    "    \"n_estimators\": None,\n",
    "    \"eta\": None,\n",
    "    \"gamma\": None,\n",
    "    \"min_child_weight\": None    \n",
    "}\n",
    "\n",
    "best_error_xgboost = -1\n",
    "\n",
    "for n_estimators in parameters_xgboost['n_estimators']:\n",
    "    for eta in parameters_xgboost['eta']:\n",
    "        for gamma in parameters_xgboost['gamma']:\n",
    "            for min_child_weight in parameters_xgboost['min_child_weight']:\n",
    "                regressor = xgb.XGBRegressor(\n",
    "                    n_estimators = n_estimators,\n",
    "                    eta = eta,\n",
    "                    gamma = gamma,\n",
    "                    min_child_weight = min_child_weight\n",
    "                    )\n",
    "                regressor.fit(x_valid, y_valid)\n",
    "                y_pred = regressor.predict(x_test)\n",
    "                error = roc_auc_score(y_test, y_pred)                    \n",
    "                if error > best_error_xgboost:\n",
    "                    best_error_xgboost = error\n",
    "                    best_parameters_xgboost = {\n",
    "                        \"n_estimators\": n_estimators,\n",
    "                        \"eta\": eta,\n",
    "                        \"gamma\": gamma,\n",
    "                        \"min_child_weight\": min_child_weight\n",
    "                        }\n",
    "\n",
    "print(f'Best ROC-AUC: {best_error_xgboost}, Best parameters: {best_parameters_xgboost}')"
   ]
  },
  {
   "cell_type": "markdown",
   "metadata": {},
   "source": [
    "__Ответ__: Результат вышел незначительно хуже, но, возможно, всё дело в том, какие гиперпараметры были выбраны. Возможно, если бы выбраны другие гиперпараметры, результат вышел бы другим. Но для данных гиперпараметров вышел такой результат. Но стоит отметить, что результаты посчитались куда быстрее, чем в случае с перебором параметров по бустингу."
   ]
  },
  {
   "cell_type": "markdown",
   "metadata": {},
   "source": [
    "### Задание 5 (бонус). Пробуем ещё немножко библиотек (1 балл)\n",
    "\n",
    "Существуют библиотеки для подбора гиперпараметров, попробуйте использовать какую-нибудь из следующих двух - [Hyperopt](https://github.com/hyperopt/hyperopt), [Optuna](https://optuna.org/). Сравните полученное качество с вашим ручным перебором. Используйте эту библиотеку чтобы подобрать параметры и для своей реалзиации и для библиотечной."
   ]
  },
  {
   "cell_type": "code",
   "execution_count": 10,
   "metadata": {},
   "outputs": [
    {
     "name": "stdout",
     "output_type": "stream",
     "text": [
      "Best result for boosting: 0.9362934423725798\n",
      "Best parameters for boosting: {'n_estimators': 13, 'learning_rate': 0.056561417381203904, 'max_depth': 13, 'min_samples_leaf': 4}\n",
      "Best result for xgboost: 0.9312479629929951\n",
      "Best parameters for xgboost: {'n_estimators': 27, 'eta': 0.15674610016873244, 'gamma': 3, 'min_child_weight': 0}\n"
     ]
    }
   ],
   "source": [
    "import optuna\n",
    "\n",
    "def opt_boosting(trial):\n",
    "    param = {\n",
    "        \"n_estimators\": trial.suggest_int(\"n_estimators\", 1, 20, 2),\n",
    "        \"learning_rate\": trial.suggest_float(\"learning_rate\", 0.05, 0.15),\n",
    "        \"base_model_params\":{\n",
    "            \"max_depth\": trial.suggest_int(\"max_depth\", 2, 15),\n",
    "            \"min_samples_leaf\": trial.suggest_int(\"min_samples_leaf\", 1, 15)\n",
    "        }\n",
    "    }\n",
    "\n",
    "    boosting = Boosting(**param)\n",
    "    boosting.fit(x_train, y_train, x_valid, y_valid)\n",
    "    error = boosting.score(x_test, y_test)  \n",
    "    return error\n",
    "\n",
    "def opt_xgboost(trial):\n",
    "    param = {\n",
    "        \"n_estimators\": trial.suggest_int(\"n_estimators\", 25, 35, 2),\n",
    "        \"eta\": trial.suggest_float(\"eta\", 0.05, 0.5),\n",
    "        \"gamma\": trial.suggest_int(\"gamma\", 2.5, 3.5),\n",
    "        \"min_child_weight\": trial.suggest_int(\"min_child_weight\", 0, 0.020)\n",
    "    }\n",
    "    regressor = xgb.XGBRegressor(**param)\n",
    "    regressor.fit(x_valid, y_valid)\n",
    "    y_pred = regressor.predict(x_test)\n",
    "    error = roc_auc_score(y_test, y_pred)\n",
    "    return error\n",
    "\n",
    "optuna.logging.disable_default_handler()\n",
    "study_boosting = optuna.create_study(direction=\"maximize\")\n",
    "study_boosting.optimize(opt_boosting, n_trials=100, show_progress_bar=False)\n",
    "\n",
    "study_xgboost = optuna.create_study(direction=\"maximize\")\n",
    "study_xgboost.optimize(opt_xgboost, n_trials=100, show_progress_bar=False)\n",
    "\n",
    "print(f\"Best result for boosting: {study_boosting.best_value}\")\n",
    "print(f\"Best parameters for boosting: {study_boosting.best_params}\")\n",
    "\n",
    "print(f\"Best result for xgboost: {study_xgboost.best_value}\")\n",
    "print(f\"Best parameters for xgboost: {study_xgboost.best_params}\")"
   ]
  },
  {
   "cell_type": "markdown",
   "metadata": {},
   "source": [
    "__Важное примечание!__ Для создания собственного бустинга было использовано готовое решение по данной ссылке https://habr.com/ru/company/vk/blog/438562/, но в процессе работы данное решение было множество раз модифицировано, чтобы более подходить условиям задачи"
   ]
  }
 ],
 "metadata": {
  "kernelspec": {
   "display_name": "Python 3 (ipykernel)",
   "language": "python",
   "name": "python3"
  },
  "language_info": {
   "codemirror_mode": {
    "name": "ipython",
    "version": 3
   },
   "file_extension": ".py",
   "mimetype": "text/x-python",
   "name": "python",
   "nbconvert_exporter": "python",
   "pygments_lexer": "ipython3",
   "version": "3.8.8"
  },
  "nbTranslate": {
   "displayLangs": [
    "*"
   ],
   "hotkey": "alt-t",
   "langInMainMenu": true,
   "sourceLang": "en",
   "targetLang": "fr",
   "useGoogleTranslate": true
  },
  "toc": {
   "base_numbering": 1,
   "nav_menu": {
    "height": "210px",
    "width": "492px"
   },
   "number_sections": false,
   "sideBar": true,
   "skip_h1_title": false,
   "title_cell": "Table of Contents",
   "title_sidebar": "Contents",
   "toc_cell": false,
   "toc_position": {},
   "toc_section_display": true,
   "toc_window_display": true
  },
  "varInspector": {
   "cols": {
    "lenName": 16,
    "lenType": 16,
    "lenVar": 40
   },
   "kernels_config": {
    "python": {
     "delete_cmd_postfix": "",
     "delete_cmd_prefix": "del ",
     "library": "var_list.py",
     "varRefreshCmd": "print(var_dic_list())"
    },
    "r": {
     "delete_cmd_postfix": ") ",
     "delete_cmd_prefix": "rm(",
     "library": "var_list.r",
     "varRefreshCmd": "cat(var_dic_list()) "
    }
   },
   "types_to_exclude": [
    "module",
    "function",
    "builtin_function_or_method",
    "instance",
    "_Feature"
   ],
   "window_display": false
  }
 },
 "nbformat": 4,
 "nbformat_minor": 4
}
